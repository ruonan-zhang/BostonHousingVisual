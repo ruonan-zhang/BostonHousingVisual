{
 "cells": [
  {
   "cell_type": "code",
   "execution_count": 59,
   "metadata": {},
   "outputs": [],
   "source": [
    "import pandas as pd\n",
    "import warnings\n",
    "warnings.filterwarnings('ignore')"
   ]
  },
  {
   "cell_type": "markdown",
   "metadata": {},
   "source": [
    "### Data Description: Boston Housing Dataset"
   ]
  },
  {
   "cell_type": "markdown",
   "metadata": {},
   "source": [
    "Ruonan Zhang(ruonanz2)"
   ]
  },
  {
   "cell_type": "markdown",
   "metadata": {},
   "source": [
    "I am using Boston Property Assessment Dataset (51.5 MB) provided by Boston government https://data.boston.gov/dataset/property-assessment/resource/fd351943-c2c6-4630-992d-3f895360febd\n",
    "\n",
    "**[Official description]** Gives property, or parcel, ownership together with value information, which ensures fair assessment of Boston taxable and non-taxable property of all types and classifications.\n",
    "\n",
    "This dataset contains detailed information of real estates in Boston area. There are 172841 rows, each row of the dataset represents an unique building. There are 75 columns, each column provides descritive information for buildings. \n",
    "\n",
    "There are **classification features** such as type of land used `LU` or type of structural `STRUCTURE_CLASS`, those features are returned as categorical variable; **descriptive features** such as total number of rooms `R_TOTAL_RMS` or total number of bath `R_FULL_BTH`, those features are returned as numerical variable; **condition descriptions** such as overall condition `R_OVRALL_CND` or interior finish `R_INT_FIN`, returned as categorical variable; **assessment value** such as total assessed value for property `AV_TOTAL` or total assessed land value `AV_LAND`, those features are returned as numerical variables.\n",
    "\n",
    "There are 75 columns in this dataset. We could make some inferences from the column names, but a detailed description is here: https://data.boston.gov/dataset/property-assessment/resource/d6c1268c-cd83-4dc3-a914-bba1ed59da6d\n",
    "\n",
    "The total assessed value for property is updated by year, so there is a dataset recreated for each year. **I am only using the most up to date dataset (2018 version).**"
   ]
  },
  {
   "cell_type": "code",
   "execution_count": 60,
   "metadata": {},
   "outputs": [
    {
     "name": "stdout",
     "output_type": "stream",
     "text": [
      "This dataset has 172841 rows, each row represents a record for an unique building.\n"
     ]
    }
   ],
   "source": [
    "BostonHousing = pd.read_csv('E:/UIUC/IS590_dv/Final/ast2018full.csv')\n",
    "nrow = BostonHousing.shape[0]\n",
    "print('This dataset has ' + str(nrow) + ' rows, each row represents a record for an unique building.')      "
   ]
  },
  {
   "cell_type": "code",
   "execution_count": 62,
   "metadata": {},
   "outputs": [
    {
     "name": "stdout",
     "output_type": "stream",
     "text": [
      "This dataset has 75 features totally.\n"
     ]
    }
   ],
   "source": [
    "n_features = len(BostonHousing.columns.values)\n",
    "print('This dataset has ' + str(n_features) + ' features totally.')     "
   ]
  },
  {
   "cell_type": "code",
   "execution_count": 26,
   "metadata": {},
   "outputs": [
    {
     "name": "stdout",
     "output_type": "stream",
     "text": [
      "Among all the buildings in Boston area, 64496 of those are residential building.\n"
     ]
    }
   ],
   "source": [
    "BostonResidential = BostonHousing[BostonHousing['LU'].isin(['R1','R2','R3','R4'])]\n",
    "print('Among all the buildings in Boston area, ' + str(BostonResidential.shape[0]) + ' of those are residential building.')"
   ]
  },
  {
   "cell_type": "markdown",
   "metadata": {},
   "source": [
    "We are only going to use **residential building** data in the following steps."
   ]
  },
  {
   "cell_type": "markdown",
   "metadata": {},
   "source": [
    "#### Column Desciption"
   ]
  },
  {
   "cell_type": "code",
   "execution_count": 68,
   "metadata": {},
   "outputs": [
    {
     "name": "stdout",
     "output_type": "stream",
     "text": [
      "There are 24 numerical features totally.\n"
     ]
    }
   ],
   "source": [
    "numerical = BostonResidential.select_dtypes(include='float').shape[1]\n",
    "print('There are ' + str(numerical) + ' numerical features totally.')"
   ]
  },
  {
   "cell_type": "code",
   "execution_count": 72,
   "metadata": {},
   "outputs": [
    {
     "name": "stdout",
     "output_type": "stream",
     "text": [
      "There are 45 categorical features totally.\n"
     ]
    }
   ],
   "source": [
    "cate = BostonResidential.select_dtypes(include='object').shape[1]\n",
    "print('There are ' + str(cate) + ' categorical features totally.')"
   ]
  },
  {
   "cell_type": "markdown",
   "metadata": {},
   "source": [
    "#### Missing values"
   ]
  },
  {
   "cell_type": "code",
   "execution_count": 50,
   "metadata": {},
   "outputs": [],
   "source": [
    "#Missing percentage for each column\n",
    "Missing = (BostonResidential.isna().sum().sort_values(ascending = False)/BostonResidential.shape[0]).reset_index()\n",
    "Missing.columns = ['colname','percentage']"
   ]
  },
  {
   "cell_type": "code",
   "execution_count": 58,
   "metadata": {},
   "outputs": [
    {
     "name": "stdout",
     "output_type": "stream",
     "text": [
      "There are 31 columns that have more than 40% missing values.\n"
     ]
    }
   ],
   "source": [
    "large_missing = Missing[Missing['percentage'] > 0.4].shape[0]\n",
    "print('There are ' + str(large_missing) + ' columns that have more than 40% missing values.')"
   ]
  },
  {
   "cell_type": "code",
   "execution_count": 74,
   "metadata": {},
   "outputs": [
    {
     "name": "stdout",
     "output_type": "stream",
     "text": [
      "There are 16 columns that do not have missing value.\n"
     ]
    }
   ],
   "source": [
    "no_missing = Missing[Missing['percentage'] == 0].shape[0]\n",
    "print('There are ' + str(no_missing) + ' columns that do not have missing value.')"
   ]
  }
 ],
 "metadata": {
  "kernelspec": {
   "display_name": "Python 3",
   "language": "python",
   "name": "python3"
  },
  "language_info": {
   "codemirror_mode": {
    "name": "ipython",
    "version": 3
   },
   "file_extension": ".py",
   "mimetype": "text/x-python",
   "name": "python",
   "nbconvert_exporter": "python",
   "pygments_lexer": "ipython3",
   "version": "3.6.4"
  },
  "widgets": {
   "application/vnd.jupyter.widget-state+json": {
    "state": {},
    "version_major": 2,
    "version_minor": 0
   }
  }
 },
 "nbformat": 4,
 "nbformat_minor": 2
}

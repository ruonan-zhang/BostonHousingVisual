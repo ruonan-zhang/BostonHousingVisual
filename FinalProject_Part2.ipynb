{
 "cells": [
  {
   "cell_type": "markdown",
   "metadata": {},
   "source": [
    "# Final Project: Part 2 (Viz for Peer)"
   ]
  },
  {
   "cell_type": "markdown",
   "metadata": {},
   "source": [
    "## Group Member:\n",
    "\n",
    "- MingFu Chou (Me)\n",
    "- Ruonan Zhang\n",
    "- Shukai Yao\n",
    "- Ni Lin"
   ]
  },
  {
   "cell_type": "markdown",
   "metadata": {},
   "source": [
    "## Data Introduction\n",
    "\n",
    "- Dataset: City of Boston Assessing Department\n",
    "- File Name: ast2018full.csv\n",
    "- Data Source: Analyze Boston (City of Boston's open data hub)\n",
    "- Link: https://data.boston.gov/dataset/property-assessment\n",
    "- License: Open Data Commons Public Domain Dedication and License (PDDL) - \n",
    "- Data usage: PDDL is a document intended to allow you to freely share, modify, and use this work for any purpose and without any restrictions. \n",
    "- File Size: 54.1 MB"
   ]
  },
  {
   "cell_type": "markdown",
   "metadata": {},
   "source": [
    "## Data Description\n",
    "\n",
    "Gives property, or parcel, ownership together with value information, which ensures fair assessment of Boston taxable and non-taxable property of all types and classifications. To preserve their integrity, the identifiers PID, CM_ID, GIS_ID, ZIPCODE, and MAIL_ZIPCODE all are marked with an underscore (\"_\") as the last character."
   ]
  },
  {
   "cell_type": "markdown",
   "metadata": {},
   "source": [
    "## Data Exploration"
   ]
  },
  {
   "cell_type": "code",
   "execution_count": 1,
   "metadata": {},
   "outputs": [],
   "source": [
    "# import library\n",
    "import numpy as np\n",
    "import pandas as pd\n",
    "import matplotlib.pyplot as plt\n",
    "%matplotlib inline\n",
    "import ipywidgets\n",
    "import matplotlib.ticker as mtick"
   ]
  },
  {
   "cell_type": "code",
   "execution_count": 2,
   "metadata": {},
   "outputs": [
    {
     "name": "stderr",
     "output_type": "stream",
     "text": [
      "/opt/conda/lib/python3.6/site-packages/IPython/core/interactiveshell.py:3020: DtypeWarning: Columns (15,60,63) have mixed types. Specify dtype option on import or set low_memory=False.\n",
      "  interactivity=interactivity, compiler=compiler, result=result)\n"
     ]
    }
   ],
   "source": [
    "# read data file\n",
    "df = pd.read_csv(\"data/ast2018full.csv\")"
   ]
  },
  {
   "cell_type": "code",
   "execution_count": 3,
   "metadata": {},
   "outputs": [
    {
     "data": {
      "text/plain": [
       "(172841, 75)"
      ]
     },
     "execution_count": 3,
     "metadata": {},
     "output_type": "execute_result"
    }
   ],
   "source": [
    "df.shape"
   ]
  },
  {
   "cell_type": "code",
   "execution_count": 4,
   "metadata": {},
   "outputs": [
    {
     "data": {
      "text/plain": [
       "Index(['PID', 'CM_ID', 'GIS_ID', 'ST_NUM', 'ST_NAME', 'ST_NAME_SUF',\n",
       "       'UNIT_NUM', 'ZIPCODE', 'PTYPE', 'LU', 'OWN_OCC', 'OWNER',\n",
       "       'MAIL_ADDRESSEE', 'MAIL_ADDRESS', 'MAIL CS', 'MAIL_ZIPCODE', 'AV_LAND',\n",
       "       'AV_BLDG', 'AV_TOTAL', 'GROSS_TAX', 'LAND_SF', 'YR_BUILT', 'YR_REMOD',\n",
       "       'GROSS_AREA', 'LIVING_AREA', 'NUM_FLOORS', 'STRUCTURE_CLASS',\n",
       "       'R_BLDG_STYL', 'R_ROOF_TYP', 'R_EXT_FIN', 'R_TOTAL_RMS', 'R_BDRMS',\n",
       "       'R_FULL_BTH', 'R_HALF_BTH', 'R_BTH_STYLE', 'R_BTH_STYLE2',\n",
       "       'R_BTH_STYLE3', 'R_KITCH', 'R_KITCH_STYLE', 'R_KITCH_STYLE2',\n",
       "       'R_KITCH_STYLE3', 'R_HEAT_TYP', 'R_AC', 'R_FPLACE', 'R_EXT_CND',\n",
       "       'R_OVRALL_CND', 'R_INT_CND', 'R_INT_FIN', 'R_VIEW', 'S_NUM_BLDG',\n",
       "       'S_BLDG_STYL', 'S_UNIT_RES', 'S_UNIT_COM', 'S_UNIT_RC', 'S_EXT_FIN',\n",
       "       'S_EXT_CND', 'U_BASE_FLOOR', 'U_NUM_PARK', 'U_CORNER', 'U_ORIENT',\n",
       "       'U_TOT_RMS', 'U_BDRMS', 'U_FULL_BTH', 'U_HALF_BTH', 'U_BTH_STYLE',\n",
       "       'U_BTH_STYLE2', 'U_BTH_STYLE3', 'U_KITCH_TYPE', 'U_KITCH_STYLE',\n",
       "       'U_HEAT_TYP', 'U_AC', 'U_FPLACE', 'U_INT_FIN', 'U_INT_CND', 'U_VIEW'],\n",
       "      dtype='object')"
      ]
     },
     "execution_count": 4,
     "metadata": {},
     "output_type": "execute_result"
    }
   ],
   "source": [
    "df.columns"
   ]
  },
  {
   "cell_type": "code",
   "execution_count": 5,
   "metadata": {},
   "outputs": [
    {
     "data": {
      "text/plain": [
       "PID                  int64\n",
       "CM_ID              float64\n",
       "GIS_ID             float64\n",
       "ST_NUM              object\n",
       "ST_NAME             object\n",
       "ST_NAME_SUF         object\n",
       "UNIT_NUM            object\n",
       "ZIPCODE            float64\n",
       "PTYPE                int64\n",
       "LU                  object\n",
       "OWN_OCC             object\n",
       "OWNER               object\n",
       "MAIL_ADDRESSEE      object\n",
       "MAIL_ADDRESS        object\n",
       "MAIL CS             object\n",
       "MAIL_ZIPCODE        object\n",
       "AV_LAND              int64\n",
       "AV_BLDG              int64\n",
       "AV_TOTAL             int64\n",
       "GROSS_TAX            int64\n",
       "LAND_SF            float64\n",
       "YR_BUILT           float64\n",
       "YR_REMOD           float64\n",
       "GROSS_AREA         float64\n",
       "LIVING_AREA        float64\n",
       "NUM_FLOORS         float64\n",
       "STRUCTURE_CLASS     object\n",
       "R_BLDG_STYL         object\n",
       "R_ROOF_TYP          object\n",
       "R_EXT_FIN           object\n",
       "                    ...   \n",
       "R_OVRALL_CND        object\n",
       "R_INT_CND           object\n",
       "R_INT_FIN           object\n",
       "R_VIEW              object\n",
       "S_NUM_BLDG         float64\n",
       "S_BLDG_STYL         object\n",
       "S_UNIT_RES         float64\n",
       "S_UNIT_COM         float64\n",
       "S_UNIT_RC          float64\n",
       "S_EXT_FIN           object\n",
       "S_EXT_CND           object\n",
       "U_BASE_FLOOR       float64\n",
       "U_NUM_PARK         float64\n",
       "U_CORNER            object\n",
       "U_ORIENT            object\n",
       "U_TOT_RMS           object\n",
       "U_BDRMS            float64\n",
       "U_FULL_BTH         float64\n",
       "U_HALF_BTH          object\n",
       "U_BTH_STYLE         object\n",
       "U_BTH_STYLE2        object\n",
       "U_BTH_STYLE3        object\n",
       "U_KITCH_TYPE        object\n",
       "U_KITCH_STYLE       object\n",
       "U_HEAT_TYP          object\n",
       "U_AC                object\n",
       "U_FPLACE           float64\n",
       "U_INT_FIN           object\n",
       "U_INT_CND           object\n",
       "U_VIEW              object\n",
       "Length: 75, dtype: object"
      ]
     },
     "execution_count": 5,
     "metadata": {},
     "output_type": "execute_result"
    }
   ],
   "source": [
    "df.dtypes"
   ]
  },
  {
   "cell_type": "code",
   "execution_count": 6,
   "metadata": {},
   "outputs": [
    {
     "data": {
      "text/html": [
       "<div>\n",
       "<style scoped>\n",
       "    .dataframe tbody tr th:only-of-type {\n",
       "        vertical-align: middle;\n",
       "    }\n",
       "\n",
       "    .dataframe tbody tr th {\n",
       "        vertical-align: top;\n",
       "    }\n",
       "\n",
       "    .dataframe thead th {\n",
       "        text-align: right;\n",
       "    }\n",
       "</style>\n",
       "<table border=\"1\" class=\"dataframe\">\n",
       "  <thead>\n",
       "    <tr style=\"text-align: right;\">\n",
       "      <th></th>\n",
       "      <th>PID</th>\n",
       "      <th>CM_ID</th>\n",
       "      <th>GIS_ID</th>\n",
       "      <th>ST_NUM</th>\n",
       "      <th>ST_NAME</th>\n",
       "      <th>ST_NAME_SUF</th>\n",
       "      <th>UNIT_NUM</th>\n",
       "      <th>ZIPCODE</th>\n",
       "      <th>PTYPE</th>\n",
       "      <th>LU</th>\n",
       "      <th>...</th>\n",
       "      <th>U_BTH_STYLE2</th>\n",
       "      <th>U_BTH_STYLE3</th>\n",
       "      <th>U_KITCH_TYPE</th>\n",
       "      <th>U_KITCH_STYLE</th>\n",
       "      <th>U_HEAT_TYP</th>\n",
       "      <th>U_AC</th>\n",
       "      <th>U_FPLACE</th>\n",
       "      <th>U_INT_FIN</th>\n",
       "      <th>U_INT_CND</th>\n",
       "      <th>U_VIEW</th>\n",
       "    </tr>\n",
       "  </thead>\n",
       "  <tbody>\n",
       "    <tr>\n",
       "      <th>0</th>\n",
       "      <td>100001000</td>\n",
       "      <td>NaN</td>\n",
       "      <td>100001000.0</td>\n",
       "      <td>104 A 104</td>\n",
       "      <td>PUTNAM</td>\n",
       "      <td>ST</td>\n",
       "      <td>NaN</td>\n",
       "      <td>2128.0</td>\n",
       "      <td>105</td>\n",
       "      <td>R3</td>\n",
       "      <td>...</td>\n",
       "      <td>NaN</td>\n",
       "      <td>NaN</td>\n",
       "      <td>NaN</td>\n",
       "      <td>NaN</td>\n",
       "      <td>NaN</td>\n",
       "      <td>NaN</td>\n",
       "      <td>NaN</td>\n",
       "      <td>NaN</td>\n",
       "      <td>NaN</td>\n",
       "      <td>NaN</td>\n",
       "    </tr>\n",
       "    <tr>\n",
       "      <th>1</th>\n",
       "      <td>100002000</td>\n",
       "      <td>NaN</td>\n",
       "      <td>100002000.0</td>\n",
       "      <td>197</td>\n",
       "      <td>LEXINGTON</td>\n",
       "      <td>ST</td>\n",
       "      <td>NaN</td>\n",
       "      <td>2128.0</td>\n",
       "      <td>105</td>\n",
       "      <td>R3</td>\n",
       "      <td>...</td>\n",
       "      <td>NaN</td>\n",
       "      <td>NaN</td>\n",
       "      <td>NaN</td>\n",
       "      <td>NaN</td>\n",
       "      <td>NaN</td>\n",
       "      <td>NaN</td>\n",
       "      <td>NaN</td>\n",
       "      <td>NaN</td>\n",
       "      <td>NaN</td>\n",
       "      <td>NaN</td>\n",
       "    </tr>\n",
       "    <tr>\n",
       "      <th>2</th>\n",
       "      <td>100003000</td>\n",
       "      <td>NaN</td>\n",
       "      <td>100003000.0</td>\n",
       "      <td>199</td>\n",
       "      <td>LEXINGTON</td>\n",
       "      <td>ST</td>\n",
       "      <td>NaN</td>\n",
       "      <td>2128.0</td>\n",
       "      <td>105</td>\n",
       "      <td>R3</td>\n",
       "      <td>...</td>\n",
       "      <td>NaN</td>\n",
       "      <td>NaN</td>\n",
       "      <td>NaN</td>\n",
       "      <td>NaN</td>\n",
       "      <td>NaN</td>\n",
       "      <td>NaN</td>\n",
       "      <td>NaN</td>\n",
       "      <td>NaN</td>\n",
       "      <td>NaN</td>\n",
       "      <td>NaN</td>\n",
       "    </tr>\n",
       "    <tr>\n",
       "      <th>3</th>\n",
       "      <td>100004000</td>\n",
       "      <td>NaN</td>\n",
       "      <td>100004000.0</td>\n",
       "      <td>201</td>\n",
       "      <td>LEXINGTON</td>\n",
       "      <td>ST</td>\n",
       "      <td>NaN</td>\n",
       "      <td>2128.0</td>\n",
       "      <td>105</td>\n",
       "      <td>R3</td>\n",
       "      <td>...</td>\n",
       "      <td>NaN</td>\n",
       "      <td>NaN</td>\n",
       "      <td>NaN</td>\n",
       "      <td>NaN</td>\n",
       "      <td>NaN</td>\n",
       "      <td>NaN</td>\n",
       "      <td>NaN</td>\n",
       "      <td>NaN</td>\n",
       "      <td>NaN</td>\n",
       "      <td>NaN</td>\n",
       "    </tr>\n",
       "    <tr>\n",
       "      <th>4</th>\n",
       "      <td>100005000</td>\n",
       "      <td>NaN</td>\n",
       "      <td>100005000.0</td>\n",
       "      <td>203</td>\n",
       "      <td>LEXINGTON</td>\n",
       "      <td>ST</td>\n",
       "      <td>NaN</td>\n",
       "      <td>2128.0</td>\n",
       "      <td>104</td>\n",
       "      <td>R2</td>\n",
       "      <td>...</td>\n",
       "      <td>NaN</td>\n",
       "      <td>NaN</td>\n",
       "      <td>NaN</td>\n",
       "      <td>NaN</td>\n",
       "      <td>NaN</td>\n",
       "      <td>NaN</td>\n",
       "      <td>NaN</td>\n",
       "      <td>NaN</td>\n",
       "      <td>NaN</td>\n",
       "      <td>NaN</td>\n",
       "    </tr>\n",
       "  </tbody>\n",
       "</table>\n",
       "<p>5 rows × 75 columns</p>\n",
       "</div>"
      ],
      "text/plain": [
       "         PID  CM_ID       GIS_ID     ST_NUM    ST_NAME ST_NAME_SUF UNIT_NUM  \\\n",
       "0  100001000    NaN  100001000.0  104 A 104     PUTNAM          ST      NaN   \n",
       "1  100002000    NaN  100002000.0      197    LEXINGTON          ST      NaN   \n",
       "2  100003000    NaN  100003000.0      199    LEXINGTON          ST      NaN   \n",
       "3  100004000    NaN  100004000.0      201    LEXINGTON          ST      NaN   \n",
       "4  100005000    NaN  100005000.0      203    LEXINGTON          ST      NaN   \n",
       "\n",
       "   ZIPCODE  PTYPE  LU   ...   U_BTH_STYLE2 U_BTH_STYLE3 U_KITCH_TYPE  \\\n",
       "0   2128.0    105  R3   ...            NaN          NaN          NaN   \n",
       "1   2128.0    105  R3   ...            NaN          NaN          NaN   \n",
       "2   2128.0    105  R3   ...            NaN          NaN          NaN   \n",
       "3   2128.0    105  R3   ...            NaN          NaN          NaN   \n",
       "4   2128.0    104  R2   ...            NaN          NaN          NaN   \n",
       "\n",
       "  U_KITCH_STYLE U_HEAT_TYP U_AC  U_FPLACE  U_INT_FIN  U_INT_CND  U_VIEW  \n",
       "0           NaN        NaN  NaN       NaN        NaN        NaN     NaN  \n",
       "1           NaN        NaN  NaN       NaN        NaN        NaN     NaN  \n",
       "2           NaN        NaN  NaN       NaN        NaN        NaN     NaN  \n",
       "3           NaN        NaN  NaN       NaN        NaN        NaN     NaN  \n",
       "4           NaN        NaN  NaN       NaN        NaN        NaN     NaN  \n",
       "\n",
       "[5 rows x 75 columns]"
      ]
     },
     "execution_count": 6,
     "metadata": {},
     "output_type": "execute_result"
    }
   ],
   "source": [
    "df.head()"
   ]
  },
  {
   "cell_type": "code",
   "execution_count": 7,
   "metadata": {},
   "outputs": [],
   "source": [
    "r1 = df[df['LU'] == 'R1']\n",
    "r2 = df[df['LU'] == 'R2']\n",
    "r3 = df[df['LU'] == 'R3']\n",
    "r4 = df[df['LU'] == 'R4']"
   ]
  },
  {
   "cell_type": "code",
   "execution_count": 8,
   "metadata": {},
   "outputs": [],
   "source": [
    "resident = pd.concat([r1, r2, r3, r4])"
   ]
  },
  {
   "cell_type": "code",
   "execution_count": 9,
   "metadata": {},
   "outputs": [],
   "source": [
    "resident = resident[resident[\"YR_BUILT\"]!= 0]"
   ]
  },
  {
   "cell_type": "code",
   "execution_count": 10,
   "metadata": {},
   "outputs": [],
   "source": [
    "resident = resident[resident[\"YR_REMOD\"]!= 0]"
   ]
  },
  {
   "cell_type": "code",
   "execution_count": 11,
   "metadata": {},
   "outputs": [
    {
     "data": {
      "application/vnd.jupyter.widget-view+json": {
       "model_id": "57c2f492fcfa4ced9eaaeee832de965c",
       "version_major": 2,
       "version_minor": 0
      },
      "text/plain": [
       "interactive(children=(Dropdown(description='numeric', options=('AV_LAND', 'AV_BLDG', 'AV_TOTAL', 'GROSS_TAX', …"
      ]
     },
     "metadata": {},
     "output_type": "display_data"
    }
   ],
   "source": [
    "@ipywidgets.interact(numeric = [\"AV_LAND\", \"AV_BLDG\",\"AV_TOTAL\", \"GROSS_TAX\", \"LAND_SF\",  \"GROSS_AREA\", \"LIVING_AREA\"],\n",
    "                     categorical = [\"R_BLDG_STYL\", \"R_ROOF_TYP\", \"R_HEAT_TYP\", \"R_AC\", \"R_OVRALL_CND\", \"R_VIEW\", \"LU\"],\n",
    "                     year = [\"YR_BUILT\", \"YR_REMOD\"])\n",
    "\n",
    "def get_line(numeric, categorical, year):\n",
    "    plt.figure(figsize=(20,10))\n",
    "    for l in list(resident[categorical].unique()):\n",
    "        plt.plot(resident[resident[categorical]== l].groupby(year)[numeric].mean())\n",
    "    plt.xlabel(year)\n",
    "    plt.ylabel(numeric)\n",
    "    plt.legend(loc='upper left', labels = list(resident[categorical].unique()))"
   ]
  },
  {
   "cell_type": "code",
   "execution_count": 12,
   "metadata": {},
   "outputs": [
    {
     "data": {
      "application/vnd.jupyter.widget-view+json": {
       "model_id": "8a55cfde2ddc42128b6bfb6f41332e3d",
       "version_major": 2,
       "version_minor": 0
      },
      "text/plain": [
       "interactive(children=(Dropdown(description='numeric', options=('AV_LAND', 'AV_BLDG', 'AV_TOTAL', 'GROSS_TAX', …"
      ]
     },
     "metadata": {},
     "output_type": "display_data"
    }
   ],
   "source": [
    "@ipywidgets.interact(numeric = [\"AV_LAND\", \"AV_BLDG\",\"AV_TOTAL\", \"GROSS_TAX\", \"LAND_SF\",  \"GROSS_AREA\", \"LIVING_AREA\"],\n",
    "                     categorical = [\"R_BLDG_STYL\", \"R_ROOF_TYP\", \"R_HEAT_TYP\", \"R_AC\", \"R_OVRALL_CND\", \"R_VIEW\", \"LU\"],\n",
    "                     year = [\"YR_BUILT\", \"YR_REMOD\"],\n",
    "                     present = [\"%\", \"value\"])\n",
    "\n",
    "\n",
    "def get_bar(numeric, categorical, year, present):\n",
    "    bar = resident.groupby([year,categorical])[numeric].mean()\n",
    "    if present == \"%\":\n",
    "        bar.groupby(level=0).apply(\n",
    "            lambda x: 100 * x / x.sum()\n",
    "        ).unstack().plot(kind='bar',stacked=True, figsize = (20, 10))\n",
    "        plt.gca().yaxis.set_major_formatter(mtick.PercentFormatter())\n",
    "    else:\n",
    "        bar.unstack().plot(kind='bar',stacked=True, figsize = (20, 10))\n",
    "    plt.show()"
   ]
  }
 ],
 "metadata": {
  "kernelspec": {
   "display_name": "Python 3",
   "language": "python",
   "name": "python3"
  },
  "language_info": {
   "codemirror_mode": {
    "name": "ipython",
    "version": 3
   },
   "file_extension": ".py",
   "mimetype": "text/x-python",
   "name": "python",
   "nbconvert_exporter": "python",
   "pygments_lexer": "ipython3",
   "version": "3.6.6"
  }
 },
 "nbformat": 4,
 "nbformat_minor": 2
}
